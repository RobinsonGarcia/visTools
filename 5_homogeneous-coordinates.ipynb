{
 "cells": [
  {
   "cell_type": "code",
   "execution_count": 74,
   "metadata": {},
   "outputs": [],
   "source": [
    "from robust_fitting.circle.model import *"
   ]
  },
  {
   "cell_type": "code",
   "execution_count": 118,
   "metadata": {},
   "outputs": [
    {
     "data": {
      "image/png": "[encoded data removed]",
      "text/plain": [
       "<matplotlib.figure.Figure at 0x7f07cb2fe470>"
      ]
     },
     "metadata": {},
     "output_type": "display_data"
    }
   ],
   "source": [
    "R=10\n",
    "xc = np.array((5,5))\n",
    "xk_outliers = build_circle(R,xc,std=1,outliers=True,outliers_ratio=0.09,plot=False)\n",
    "circle = circle_fitting(xk_outliers,sig=0.2)\n",
    "circle.fit_irls()\n",
    "circle.plot()"
   ]
  },
  {
   "cell_type": "code",
   "execution_count": 76,
   "metadata": {},
   "outputs": [],
   "source": [
    "class point:\n",
    "    def __init__(self,xks,type_='cart'):\n",
    "        self.input_type = type_\n",
    "        self.xks = xks\n",
    "        self.nKps = xks.shape[1]\n",
    "    '''returns cartesian coordinates'''\n",
    "    def c(self):\n",
    "        if self.input_type=='cart':\n",
    "            return self.xks\n",
    "        else:\n",
    "            return self.xks[:2,:]/self.xks[2,:]\n",
    "    \n",
    "    '''returns homogeneous coordinates'''\n",
    "    def h(self):\n",
    "        if self.input_type=='cart':\n",
    "            return np.vstack((self.xks,np.ones(self.nKps)))\n",
    "        else:\n",
    "            return self.xks"
   ]
  },
  {
   "cell_type": "code",
   "execution_count": 77,
   "metadata": {},
   "outputs": [
    {
     "name": "stdout",
     "output_type": "stream",
     "text": [
      "homogeneous sample:[14.53983778 10.18872291  1.        ]\n"
     ]
    }
   ],
   "source": [
    "xks = point(xk_outliers,'cart')\n",
    "print('homogeneous sample:{}'.format(xks.h()[:,1]))"
   ]
  },
  {
   "cell_type": "code",
   "execution_count": 78,
   "metadata": {},
   "outputs": [],
   "source": [
    "def get_random_xks(xks,n=2):\n",
    "    idx = np.arange(xks.shape[1])\n",
    "    idx = np.random.choice(idx,n)\n",
    "    xk_list = []\n",
    "    return xks[:,idx]"
   ]
  },
  {
   "cell_type": "code",
   "execution_count": 79,
   "metadata": {},
   "outputs": [],
   "source": [
    "class line:\n",
    "    def __init__(self,l=None,xks=None):\n",
    "        self.l = l\n",
    "        if l!=None:\n",
    "            self.f = self.homog(l)\n",
    "            \n",
    "    def line_from_hpoints(self,xk1,xk2):\n",
    "        self.l = np.cross(xk1,xk2)\n",
    "        self.f = self.homog(self.l)\n",
    "        self.xmin = min(xk1[0],xk2[0])\n",
    "        self.xmax = max(xk1[0],xk2[0])\n",
    "    \n",
    "    def __mul__(self,other):\n",
    "        intersect = np.cross(self.l,other.l)\n",
    "        intersect = intersect[:2]/intersect[2]\n",
    "        self.intersect = intersect\n",
    "        other.intersect = intersect\n",
    "        \n",
    "        \n",
    "    def draw(self,xmin=0,xmax=10,n=10):\n",
    "        xrange = np.linspace(self.xmin,self.xmax,n)\n",
    "        return xrange,self.f(xrange)\n",
    "    def homog(self,l):\n",
    "        a,b,c = l\n",
    "        return lambda x:-(a/b)*x-c/b\n",
    "    def plot(self,c='b'):\n",
    "        x,y = self.draw(self.xmin,self.xmax,n=10)\n",
    "        plt.plot(x,y,c=c)\n",
    "        "
   ]
  },
  {
   "cell_type": "code",
   "execution_count": 113,
   "metadata": {},
   "outputs": [],
   "source": [
    "def trial():\n",
    "    xk_rand = point(get_random_xks(xks.h(),4),'homog')\n",
    "\n",
    "    l_1 = line()\n",
    "    l_1.line_from_hpoints(xk_rand.h()[:,0],xk_rand.h()[:,1])\n",
    "\n",
    "    l_2 = line()\n",
    "    l_2.line_from_hpoints(xk_rand.h()[:,2],xk_rand.h()[:,3])\n",
    "\n",
    "    plt.scatter(xk_outliers[0,:],xk_outliers[1,:])\n",
    "    plt.scatter(xk_rand.c()[0,:],xk_rand.c()[1,:])\n",
    "    l_1.plot()\n",
    "    l_2.plot(c='r')\n",
    "    l_1*l_2\n",
    "    plt.scatter(l_1.intersect[0],l_1.intersect[1],c='y',s=60)"
   ]
  },
  {
   "cell_type": "code",
   "execution_count": 114,
   "metadata": {},
   "outputs": [
    {
     "data": {
      "image/png": "[encoded data removed]",
      "text/plain": [
       "<matplotlib.figure.Figure at 0x7f07cb409160>"
      ]
     },
     "metadata": {},
     "output_type": "display_data"
    }
   ],
   "source": [
    "trial()"
   ]
  },
  {
   "cell_type": "code",
   "execution_count": null,
   "metadata": {},
   "outputs": [],
   "source": []
  }
 ],
 "metadata": {
  "kernelspec": {
   "display_name": "Python 3",
   "language": "python",
   "name": "python3"
  },
  "language_info": {
   "codemirror_mode": {
    "name": "ipython",
    "version": 3
   },
   "file_extension": ".py",
   "mimetype": "text/x-python",
   "name": "python",
   "nbconvert_exporter": "python",
   "pygments_lexer": "ipython3",
   "version": "3.6.4"
  }
 },
 "nbformat": 4,
 "nbformat_minor": 2
}
