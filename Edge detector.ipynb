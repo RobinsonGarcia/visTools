{
 "cells": [
  {
   "cell_type": "code",
   "execution_count": 1,
   "metadata": {},
   "outputs": [],
   "source": [
    "import numpy as np\n",
    "import matplotlib.pyplot as plt\n",
    "import numpy.ma as ma\n",
    "import math\n",
    "\n",
    "from src.edges_and_fitting import *\n",
    "%load_ext autoreload\n",
    "%autoreload 2\n",
    "%matplotlib inline\n"
   ]
  },
  {
   "cell_type": "code",
   "execution_count": null,
   "metadata": {},
   "outputs": [],
   "source": [
    "im.shape"
   ]
  },
  {
   "cell_type": "code",
   "execution_count": 3,
   "metadata": {},
   "outputs": [],
   "source": [
    "def grad(mode):\n",
    "    if mode=='sobel':\n",
    "        gx = np.array([[-1,0,1],[-2,0,2],[-1,0,1]])\n",
    "        gy = gx.T\n",
    "        g = np.dstack((gx,gy))\n",
    "    if mode=='laplacian':\n",
    "        gx = np.array([[1,1,1],[1,8,1],[1,1,1]])\n",
    "        gy = gx.T\n",
    "        g = np.dstack((gx,gy))\n",
    "    return g\n",
    "\n",
    "def get_im2col_indices(x_shape, field_height, field_width, p_x=1,p_y=1, stride=1):\n",
    "    # First figure out what the size of the output should be\n",
    "    _, C, H, W = x_shape\n",
    "    assert (H + 2 * p_x - field_height) % stride == 0\n",
    "    assert (W + 2 * p_y - field_height) % stride == 0\n",
    "    out_height = int((H + 2 * p_x - field_height) / stride + 1)\n",
    "    out_width = int((W + 2 * p_y - field_width) / stride + 1)\n",
    "\n",
    "    i0 = np.repeat(np.arange(field_height), field_width)\n",
    "    i0 = np.tile(i0, C)\n",
    "    i1 = stride * np.repeat(np.arange(out_height), out_width)\n",
    "    j0 = np.tile(np.arange(field_width), field_height * C)\n",
    "    j1 = stride * np.tile(np.arange(out_width), out_height)\n",
    "    i = i0.reshape(-1, 1) + i1.reshape(1, -1)\n",
    "    j = j0.reshape(-1, 1) + j1.reshape(1, -1)\n",
    "\n",
    "    k = np.repeat(np.arange(C), field_height * field_width).reshape(-1, 1)\n",
    "\n",
    "    return (k, i, j)\n",
    "\n",
    "\n",
    "\n",
    "def conv2d(im,g,stride=1,C=3):\n",
    "    im = np.repeat(im[np.newaxis,:,:],2,axis=0)\n",
    "\n",
    "    g = np.moveaxis(g,2,0)\n",
    "    \n",
    "    im = im[:,np.newaxis,:,:]\n",
    "    N,_,H,W = im.shape\n",
    "    _,h,w = g.shape\n",
    "    \n",
    "    stride=1\n",
    "    h_pad = int((H*(stride-1)-stride+h)/2)\n",
    "    w_pad = int((W*(stride-1)-stride+w)/2)\n",
    "\n",
    "    k,i,j = get_im2col_indices((N,1,H,W), h, w, p_x=h_pad,p_y=w_pad, stride=1)\n",
    "\n",
    "    im_padded = np.pad(im,((0,0),(0,0),(h_pad,h_pad),(w_pad,w_pad)),'mean')\n",
    "    cols = im_padded[:,k,i,j]\n",
    "    \n",
    "\n",
    "    g = g.reshape((N,-1))\n",
    "\n",
    "    \n",
    "    sol = np.squeeze(np.matmul(g[:,np.newaxis,:],cols))\n",
    "    \n",
    "    return sol.reshape(N,H,W)\n",
    "\n",
    "def GaussianFilter(w,h,sigma):\n",
    "    m = (w-1)/2\n",
    "    n = (h-1)/2\n",
    "    G = []\n",
    "    for i in range(w):\n",
    "        for j in range(h):\n",
    "            G.append((1/(2*math.pi*sigma**2))*math.e**(-1*((i-m)**2+(j-n)**2)/(2*sigma**2)))\n",
    "    \n",
    "    return np.array(G).reshape(w,h)"
   ]
  },
  {
   "cell_type": "code",
   "execution_count": 36,
   "metadata": {},
   "outputs": [
    {
     "data": {
      "text/plain": [
       "<matplotlib.image.AxesImage at 0x7fba88097908>"
      ]
     },
     "execution_count": 36,
     "metadata": {},
     "output_type": "execute_result"
    },
    {
     "data": {
      "image/png": "[encoded data removed]",
      "text/plain": [
       "<Figure size 432x288 with 1 Axes>"
      ]
     },
     "metadata": {},
     "output_type": "display_data"
    }
   ],
   "source": [
    "G = GaussianFilter(5,5,3)\n",
    "G = np.dstack((G,G))\n",
    "\n",
    "im = plt.imread('img/coins1.jpg')\n",
    "im = np.mean(im,axis=2)\n",
    "im = conv2d(im,G)[0]\n",
    "\n",
    "g = grad('sobel')\n",
    "R = conv2d(im,g)\n",
    "S = np.sum(R**2,axis=0)\n",
    "S = (S-S.min())/(S.max()-S.min())\n",
    "S = np.clip(S,0.03,None)\n",
    "rho = np.arctan2(R[1],R[0])\n",
    "rho[rho<0]+= 2*math.pi\n",
    "\n",
    "maxs = conv2d_max(S,(3,3))\n",
    "S*=maxs\n",
    "rho*=maxs\n",
    "plt.imshow(S,**{'cmap':'gray'})"
   ]
  },
  {
   "cell_type": "code",
   "execution_count": 39,
   "metadata": {},
   "outputs": [],
   "source": [
    "kp = np.argwhere(S[:1000])"
   ]
  },
  {
   "cell_type": "code",
   "execution_count": 40,
   "metadata": {},
   "outputs": [],
   "source": [
    "H,W = im.shape"
   ]
  },
  {
   "cell_type": "code",
   "execution_count": 41,
   "metadata": {},
   "outputs": [],
   "source": [
    "a = np.arange(0,W,30)\n",
    "b = np.arange(0,H,30)\n",
    "R = np.arange(10,300,10)"
   ]
  },
  {
   "cell_type": "code",
   "execution_count": 42,
   "metadata": {},
   "outputs": [],
   "source": [
    "X = np.vstack(kp).T"
   ]
  },
  {
   "cell_type": "code",
   "execution_count": 43,
   "metadata": {},
   "outputs": [],
   "source": [
    "A = np.meshgrid(a,b,R)"
   ]
  },
  {
   "cell_type": "code",
   "execution_count": 44,
   "metadata": {},
   "outputs": [],
   "source": [
    "a = A[0].flatten()\n",
    "b = A[1].flatten()\n",
    "R = A[2].flatten()"
   ]
  },
  {
   "cell_type": "code",
   "execution_count": 45,
   "metadata": {},
   "outputs": [],
   "source": [
    "r = np.sqrt((X[0,:][:,np.newaxis] - a)**2 + (X[1,:][:,np.newaxis] - b)**2)\n"
   ]
  },
  {
   "cell_type": "code",
   "execution_count": 46,
   "metadata": {},
   "outputs": [
    {
     "data": {
      "text/plain": [
       "(62640,)"
      ]
     },
     "execution_count": 46,
     "metadata": {},
     "output_type": "execute_result"
    }
   ],
   "source": [
    "a.shape"
   ]
  },
  {
   "cell_type": "code",
   "execution_count": 47,
   "metadata": {},
   "outputs": [
    {
     "ename": "MemoryError",
     "evalue": "",
     "output_type": "error",
     "traceback": [
      "\u001b[0;31m---------------------------------------------------------------------------\u001b[0m",
      "\u001b[0;31mMemoryError\u001b[0m                               Traceback (most recent call last)",
      "\u001b[0;32m<ipython-input-47-780ce04d55c7>\u001b[0m in \u001b[0;36m<module>\u001b[0;34m()\u001b[0m\n\u001b[0;32m----> 1\u001b[0;31m \u001b[0mAA\u001b[0m \u001b[0;34m=\u001b[0m \u001b[0mnp\u001b[0m\u001b[0;34m.\u001b[0m\u001b[0mzeros\u001b[0m\u001b[0;34m(\u001b[0m\u001b[0;34m(\u001b[0m\u001b[0mR\u001b[0m\u001b[0;34m.\u001b[0m\u001b[0mshape\u001b[0m\u001b[0;34m[\u001b[0m\u001b[0;36m0\u001b[0m\u001b[0;34m]\u001b[0m\u001b[0;34m,\u001b[0m\u001b[0mR\u001b[0m\u001b[0;34m.\u001b[0m\u001b[0mshape\u001b[0m\u001b[0;34m[\u001b[0m\u001b[0;36m0\u001b[0m\u001b[0;34m]\u001b[0m\u001b[0;34m,\u001b[0m\u001b[0mR\u001b[0m\u001b[0;34m.\u001b[0m\u001b[0mshape\u001b[0m\u001b[0;34m[\u001b[0m\u001b[0;36m0\u001b[0m\u001b[0;34m]\u001b[0m\u001b[0;34m)\u001b[0m\u001b[0;34m)\u001b[0m\u001b[0;34m\u001b[0m\u001b[0m\n\u001b[0m",
      "\u001b[0;31mMemoryError\u001b[0m: "
     ]
    }
   ],
   "source": [
    "AA = np.zeros((R.shape[0],R.shape[0],R.shape[0]))"
   ]
  },
  {
   "cell_type": "code",
   "execution_count": null,
   "metadata": {},
   "outputs": [],
   "source": [
    "pts = np.argwhere(S)\n",
    "n = R\n",
    "\n",
    "circles=[]\n",
    "for i in range(10):\n",
    "    N=0\n",
    "    while N < 10:\n",
    "        param,w,leverage = fit(pts,n,d=35,s=300,N=1000,T=500,sigmaGM=100)\n",
    "        \n",
    "        if np.mean(leverage)<0.5:\n",
    "            a,b,R=param\n",
    "            inliers = np.sum((pts - (a,b))**2,axis=1) < R**2          \n",
    "            circles.append(param)\n",
    "            \n",
    "            a,b=param[:2]\n",
    "            R = param[2]\n",
    "            plt.imshow(im)#canny1.S,**{'cmap':'gray'})        \n",
    "            circle = Circle((b,a),radius=R,color='red',fill=False,**{\"linewidth\":2})\n",
    "            ax = plt.gca()\n",
    "            ax.add_patch(circle)\n",
    "            plt.axis('scaled')    \n",
    "            \n",
    "            pl.plot()\n",
    "            display.clear_output(wait=True)\n",
    "            display.display(pl.gcf())\n",
    "            time.sleep(3.0)\n",
    "            break\n",
    "        N+=1\n",
    "    \n",
    "    pts = pts[~inliers]"
   ]
  },
  {
   "cell_type": "code",
   "execution_count": null,
   "metadata": {},
   "outputs": [],
   "source": []
  },
  {
   "cell_type": "code",
   "execution_count": null,
   "metadata": {},
   "outputs": [],
   "source": []
  },
  {
   "cell_type": "code",
   "execution_count": null,
   "metadata": {},
   "outputs": [],
   "source": []
  },
  {
   "cell_type": "code",
   "execution_count": 12,
   "metadata": {},
   "outputs": [],
   "source": [
    "\n",
    "\n",
    "def get_im2col_indices_conv2d_max(x_shape, field_height, field_width, p_x=1,p_y=1, stride=1):\n",
    "    # First figure out what the size of the output should be\n",
    "    N, C, H, W = x_shape\n",
    "    assert (H + 2 * p_x - field_height) % stride == 0\n",
    "    assert (W + 2 * p_y - field_height) % stride == 0\n",
    "    out_height = int((H + 2 * p_x - field_height) / stride + 1)\n",
    "    out_width = int((W + 2 * p_y - field_width) / stride + 1)\n",
    "\n",
    "    i0 = np.repeat(np.arange(field_height), field_width)\n",
    "    i0 = np.tile(i0, C)\n",
    "    i1 = stride * np.repeat(np.arange(out_height), out_width)\n",
    "    j0 = np.tile(np.arange(field_width), field_height * C)\n",
    "    j1 = stride * np.tile(np.arange(out_width), out_height)\n",
    "    i = i0.reshape(-1, 1) + i1.reshape(1, -1)\n",
    "    j = j0.reshape(-1, 1) + j1.reshape(1, -1)\n",
    "\n",
    "    k = np.repeat(np.arange(C), field_height * field_width).reshape(-1, 1)\n",
    "\n",
    "    return (k, i, j)\n",
    "\n",
    "\n",
    "# In[46]:\n",
    "\n",
    "\n",
    "def conv2d_max(f,g,k=1,**kwargs):\n",
    "    #f = f[:,np.newaxis,:,:]\n",
    "    #f = np.repeat(f,3,axis=1)\n",
    "\n",
    "    if len(f.shape)==2:\n",
    "        f = f[np.newaxis,np.newaxis,:,:]\n",
    "    if len(f.shape)==3:\n",
    "        f = f[:,np.newaxis,:,:]\n",
    "        \n",
    "    N,C,H,W=f.shape\n",
    "\n",
    "    h,w = g\n",
    "\n",
    "    x_pad = int(0.5*((W-1)*1-W+w))\n",
    "    y_pad = int(0.5*((H-1)*1-H+w))\n",
    "\n",
    "    f_pad = np.pad(f,((0,0),(0,0),(x_pad,x_pad),(y_pad,y_pad)),mode='maximum')\n",
    "\n",
    "    k,i,j = get_im2col_indices_conv2d_max((N,C,H,W), h, w, p_x=x_pad,p_y=y_pad, stride=1)\n",
    "\n",
    "    cols = f_pad[:,k,i,j]\n",
    "\n",
    "    xc = int((h*w-1)/2)\n",
    "    cols = np.delete(cols,xc,1)\n",
    "\n",
    "    cond = ((f[:,:,:,:].flatten() >\n",
    "             np.max(cols,axis=1).flatten())|(f[:,:,:,:].flatten() <\n",
    "                                   np.min(cols,axis=1).flatten()))#&(np.abs(f[:,1,:,:].flatten())>0.03))\n",
    "\n",
    "    return np.squeeze(np.moveaxis(cond.reshape(N,H,W),0,2))\n"
   ]
  },
  {
   "cell_type": "code",
   "execution_count": null,
   "metadata": {},
   "outputs": [],
   "source": []
  },
  {
   "cell_type": "code",
   "execution_count": null,
   "metadata": {},
   "outputs": [],
   "source": [
    "def peakDetection(x0,n_pad,S_pad):\n",
    "\n",
    "    n0 = np.array(([n_pad[0][x0],n_pad[1][x0]]))\n",
    "\n",
    "    q0 = x0 + n0*1/(2*math.sin(math.pi/8))\n",
    "\n",
    "    k,l=np.rint(q0).astype(int).tolist()\n",
    "    \n",
    "    return S_pad[x0[0],x0[1]]>S_pad[k,l]\n",
    "\n",
    "\n",
    "def canny(im,th=0.1,fsize=(3,3),sigma=1):\n",
    "    M = im\n",
    "    h,w = fsize\n",
    "    gx =  DOG(h,w,sigma,'x')\n",
    "    gy =  DOG(h,w,sigma,'y')\n",
    "\n",
    "    grad_x = np.mean(conv2d(M,gx),axis=2)\n",
    "    grad_y = np.mean(conv2d(M,gy),axis=2)\n",
    "\n",
    "    R = (grad_x,grad_y)\n",
    "\n",
    "    S = np.sqrt(grad_x**2+grad_y**2)\n",
    "    mask = ma.masked_where(S > th*S.max(), S).mask\n",
    "\n",
    "    n = mask*np.divide(R,S,out=np.zeros_like(R),where=S!=0)\n",
    "\n",
    "    plot(S,**{'cmap':'gray'})\n",
    "    \n",
    "    H,W = S.shape\n",
    "    k=1\n",
    "    x_pad = int(0.5*((W-1)*k-W+w))\n",
    "    y_pad = int(0.5*((H-1)*k-H+h))\n",
    "\n",
    "    S_pad = np.pad(S,((y_pad,y_pad),(x_pad,x_pad)),mode='constant')\n",
    "    nx_pad = np.pad(n[0],((y_pad,y_pad),(x_pad,x_pad)),mode='constant')\n",
    "    ny_pad = np.pad(n[1],((y_pad,y_pad),(x_pad,x_pad)),mode='constant')\n",
    "\n",
    "    peaks = np.zeros_like(S)\n",
    "    count=0\n",
    "    for i in range(H):\n",
    "        for j in range(W):\n",
    "            x0 = (i+1,j+1)\n",
    "\n",
    "            if peakDetection(x0,(nx_pad,ny_pad),S_pad)==True:\n",
    "                peaks[i,j]=1\n",
    "\n",
    "            count+=1  \n",
    "    print(\"Sanity check: {}\".format(count==H*W))\n",
    "    plot(peaks,**{'cmap':'gray'})\n",
    "    return peaks"
   ]
  }
 ],
 "metadata": {
  "kernelspec": {
   "display_name": "Python 3",
   "language": "python",
   "name": "python3"
  },
  "language_info": {
   "codemirror_mode": {
    "name": "ipython",
    "version": 3
   },
   "file_extension": ".py",
   "mimetype": "text/x-python",
   "name": "python",
   "nbconvert_exporter": "python",
   "pygments_lexer": "ipython3",
   "version": "3.6.4"
  }
 },
 "nbformat": 4,
 "nbformat_minor": 2
}
