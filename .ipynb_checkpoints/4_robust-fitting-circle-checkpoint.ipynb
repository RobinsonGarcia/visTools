{
 "cells": [
  {
   "cell_type": "code",
   "execution_count": 1,
   "metadata": {},
   "outputs": [],
   "source": [
    "import numpy as np\n",
    "import matplotlib.pyplot as plt"
   ]
  },
  {
   "cell_type": "markdown",
   "metadata": {},
   "source": [
    "## Real circle"
   ]
  },
  {
   "cell_type": "code",
   "execution_count": 2,
   "metadata": {},
   "outputs": [],
   "source": [
    "R = 10\n",
    "xc = np.array([5,5])"
   ]
  },
  {
   "cell_type": "markdown",
   "metadata": {},
   "source": [
    "## Build circle"
   ]
  },
  {
   "cell_type": "code",
   "execution_count": 3,
   "metadata": {},
   "outputs": [],
   "source": [
    "def circle_params(p):\n",
    "    A,D,E,F = p\n",
    "    xc = -D/(2*A)\n",
    "    yc = -E/(2*A)\n",
    "    R = np.sqrt(xc**2+yc**2-F/A)\n",
    "    return R,np.array([xc,yc])\n",
    "\n",
    "def plot_circle_from_xk(xk,c='b'):\n",
    "    plt.scatter(xk[1,:],xk[0,:],c=c)\n",
    "    pass\n",
    "\n",
    "def plot_circle_from_params(p,c='b'):\n",
    "    R,xc = circle_params(p)\n",
    "    teta = np.arange(0,2*np.pi,np.pi/36)\n",
    "    xk = np.array([R*np.cos(teta),R*np.sin(teta)]) + xc[:,np.newaxis]\n",
    "    plt.scatter(xk[1,:],xk[0,:],c=c)\n",
    "    pass\n",
    "    \n",
    "def build_circle(R,xc,std=0,outliers=False,c='b',outliers_ratio=0.05,plot=True):\n",
    "    noise = None\n",
    "    \n",
    "    teta = np.arange(0,2*np.pi,np.pi/36)\n",
    "    xk = np.array([R*np.cos(teta),R*np.sin(teta)]) + xc[:,np.newaxis] + np.random.normal(0,std,(2,2*36))    \n",
    "    \n",
    "    if plot:plot_circle_from_xk(xk,c)\n",
    "    if outliers:\n",
    "        noise = np.array([0.5*R*np.cos(teta),0.5*R*np.sin(teta)]) + 0.5*R*xc[:,np.newaxis] + np.random.normal(0,std,(2,2*36))    \n",
    "        #noise = np.random.normal(0,std,(2,int(outliers_ratio*72))) +2*xc[:,np.newaxis]+R\n",
    "        if plot:plt.scatter(noise[0,:],noise[1,:],c='b')\n",
    "        xk = np.hstack((xk,noise))\n",
    "    return xk"
   ]
  },
  {
   "cell_type": "code",
   "execution_count": 4,
   "metadata": {},
   "outputs": [
    {
     "data": {
      "image/png": "[encoded data removed]",
      "text/plain": [
       "<matplotlib.figure.Figure at 0x7f8a8459d4e0>"
      ]
     },
     "metadata": {},
     "output_type": "display_data"
    }
   ],
   "source": [
    "xk = build_circle(R,xc,std=1,c='b')"
   ]
  },
  {
   "cell_type": "code",
   "execution_count": 5,
   "metadata": {},
   "outputs": [
    {
     "data": {
      "image/png": "[encoded data removed]",
      "text/plain": [
       "<matplotlib.figure.Figure at 0x7f8a843177b8>"
      ]
     },
     "metadata": {},
     "output_type": "display_data"
    }
   ],
   "source": [
    "xk_outliers = build_circle(R,xc,std=1,outliers=True,outliers_ratio=0.05)"
   ]
  },
  {
   "cell_type": "code",
   "execution_count": 6,
   "metadata": {},
   "outputs": [],
   "source": [
    "def build_data_matrix(xk,w=None):\n",
    "    z = np.sum(xk**2,axis=0)\n",
    "    ones = np.ones(z.shape)\n",
    "    Z = np.vstack((z,xk,ones))\n",
    "    if isinstance(w,np.ndarray):\n",
    "        Z=w*Z\n",
    "    return Z"
   ]
  },
  {
   "cell_type": "code",
   "execution_count": 7,
   "metadata": {},
   "outputs": [],
   "source": [
    "def fit_circle(xk,w=None):\n",
    "    k = xk.shape[1]\n",
    "    \n",
    "    if isinstance(w,np.ndarray):\n",
    "        w = w\n",
    "        s = np.sum(w)\n",
    "    else:\n",
    "        w = np.ones(k)\n",
    "        s = k\n",
    "        \n",
    "    Z = build_data_matrix(xk,w)\n",
    "\n",
    "    M = (1/s)*Z.dot(Z.T)\n",
    "\n",
    "    N = np.array([[0,0,0,-2],[0,1,0,0],[0,0,1,0],[-2,0,0,0]])\n",
    "\n",
    "    N_inv = np.array([[0,0,0,-1/2],[0,1,0,0],[0,0,1,0],[-1/2,0,0,0]])\n",
    "\n",
    "    U,S,V = np.linalg.svd(N_inv.dot(M))\n",
    "\n",
    "    return V[-1,:]"
   ]
  },
  {
   "cell_type": "code",
   "execution_count": 8,
   "metadata": {},
   "outputs": [],
   "source": [
    "class circle_LS:\n",
    "    def __init__(self,xk=None):\n",
    "        self.xk = xk\n",
    "    def fit(self,xk,w=None):\n",
    "        self.xk = xk\n",
    "        self.Z = build_data_matrix(xk)\n",
    "        self.p = fit_circle(xk,w)\n",
    "        self.R,self.xc = circle_params(self.p)\n",
    "    \n",
    "    def get_ek(self):\n",
    "        return self.Z.T.dot(self.p)\n",
    "    \n",
    "    def plot(self,title='fitted circle'):\n",
    "        plt.title(title)\n",
    "        plot_circle_from_params(self.p,c='r')\n",
    "        plt.scatter(self.xk[0,:],self.xk[1,:])"
   ]
  },
  {
   "cell_type": "code",
   "execution_count": 9,
   "metadata": {},
   "outputs": [],
   "source": [
    "circle = circle_LS()"
   ]
  },
  {
   "cell_type": "code",
   "execution_count": 10,
   "metadata": {
    "scrolled": false
   },
   "outputs": [
    {
     "data": {
      "image/png": "[encoded data removed]",
      "text/plain": [
       "<matplotlib.figure.Figure at 0x7f8a9c4629b0>"
      ]
     },
     "metadata": {},
     "output_type": "display_data"
    }
   ],
   "source": [
    "circle.fit(xk)\n",
    "circle.plot()"
   ]
  },
  {
   "cell_type": "code",
   "execution_count": 11,
   "metadata": {},
   "outputs": [
    {
     "data": {
      "image/png": "[encoded data removed]",
      "text/plain": [
       "<matplotlib.figure.Figure at 0x7f8a84224358>"
      ]
     },
     "metadata": {},
     "output_type": "display_data"
    }
   ],
   "source": [
    "circle.fit(xk_outliers)\n",
    "circle.plot()"
   ]
  },
  {
   "cell_type": "code",
   "execution_count": 12,
   "metadata": {},
   "outputs": [
    {
     "name": "stdout",
     "output_type": "stream",
     "text": [
      "RADIUS--circle: 10\n",
      "RADIUS--fitted circle: 10.049975437336569\n"
     ]
    }
   ],
   "source": [
    "print('RADIUS--circle: {}'.format(R))\n",
    "print('RADIUS--fitted circle: {}'.format(circle.R))"
   ]
  },
  {
   "cell_type": "code",
   "execution_count": 13,
   "metadata": {},
   "outputs": [
    {
     "name": "stdout",
     "output_type": "stream",
     "text": [
      "CENTER--circle: [5 5]\n",
      "CENTER--fitted circle: [20.71331244 21.9183292 ]\n"
     ]
    }
   ],
   "source": [
    "print('CENTER--circle: {}'.format(xc))\n",
    "print('CENTER--fitted circle: {}'.format(circle.xc))"
   ]
  },
  {
   "cell_type": "code",
   "execution_count": 14,
   "metadata": {},
   "outputs": [
    {
     "data": {
      "text/plain": [
       "[<matplotlib.lines.Line2D at 0x7f8a8410a3c8>]"
      ]
     },
     "execution_count": 14,
     "metadata": {},
     "output_type": "execute_result"
    },
    {
     "data": {
      "image/png": "[encoded data removed]",
      "text/plain": [
       "<matplotlib.figure.Figure at 0x7f8a841afe48>"
      ]
     },
     "metadata": {},
     "output_type": "display_data"
    }
   ],
   "source": [
    "plt.title('L2 estimator')\n",
    "ek = np.sort(circle.get_ek())\n",
    "plt.plot(ek,ek**2)"
   ]
  },
  {
   "cell_type": "markdown",
   "metadata": {},
   "source": [
    "## IRLS - Iteractive reweighted least squares algorithm"
   ]
  },
  {
   "cell_type": "code",
   "execution_count": 15,
   "metadata": {},
   "outputs": [],
   "source": [
    "class circle_fitting:\n",
    "    def __init__(self,xk=None,p=None,sig=1):\n",
    "        self.sig = sig\n",
    "        self.xk = xk\n",
    "        self.p=p\n",
    "        self.K = xk.shape[1]\n",
    "        \n",
    "    def fit(self,xk=None,w=None):\n",
    "        \n",
    "        if isinstance(xk,np.ndarray):\n",
    "            xk = xk\n",
    "        else:\n",
    "            xk = self.xk\n",
    "        \n",
    "        self.Z = build_data_matrix(xk)\n",
    "        self.p = fit_circle(xk,w)\n",
    "        self.R,self.xc = circle_params(self.p)\n",
    "    \n",
    "    def fit_irls(self):\n",
    "        self.fit()\n",
    "        w = self.weights()\n",
    "        for i in range(35):\n",
    "            self.fit(w=w)\n",
    "            w = self.weights()\n",
    "            \n",
    "    def ek(self):\n",
    "        return self.Z.T.dot(self.p)\n",
    "    \n",
    "    def rho_gm(self):\n",
    "        ek = self.ek()\n",
    "        return ek**2/(ek**2+self.sig**2)\n",
    "    \n",
    "    def weights(self):\n",
    "        ek = self.ek()\n",
    "        return 2*self.sig**2/(ek**2+self.sig**2)**2  \n",
    "    \n",
    "    def crt(self):\n",
    "        print('--Objective:{} --K:{}'.format(np.sum(self.rho_gm()),self.K))\n",
    "    \n",
    "    def plot(self,title='fitted_circle'):\n",
    "        plt.figure()\n",
    "        plot_circle_from_params(self.p,c='r')\n",
    "        plt.scatter(self.xk[1,:],self.xk[0,:])\n",
    "        \n",
    "        \n",
    "    def plot_error(self,title='objective versus error_plot'):\n",
    "        plt.title(title)\n",
    "        plt.scatter(circle.ek(),circle.rho_gm())\n",
    "        "
   ]
  },
  {
   "cell_type": "code",
   "execution_count": 16,
   "metadata": {
    "scrolled": false
   },
   "outputs": [
    {
     "data": {
      "image/png": "[encoded data removed]",
      "text/plain": [
       "<matplotlib.figure.Figure at 0x7f8a84229978>"
      ]
     },
     "metadata": {},
     "output_type": "display_data"
    }
   ],
   "source": [
    "xk_outliers = build_circle(R,xc,std=1,outliers=True,outliers_ratio=0.09,plot=False)\n",
    "circle = circle_fitting(xk_outliers,sig=0.2)\n",
    "circle.fit_irls()\n",
    "circle.plot()"
   ]
  },
  {
   "cell_type": "code",
   "execution_count": 17,
   "metadata": {},
   "outputs": [
    {
     "name": "stdout",
     "output_type": "stream",
     "text": [
      "--Objective:62.228643345105695 --K:144\n"
     ]
    }
   ],
   "source": [
    "circle.crt()"
   ]
  },
  {
   "cell_type": "code",
   "execution_count": 18,
   "metadata": {},
   "outputs": [
    {
     "data": {
      "image/png": "[encoded data removed]",
      "text/plain": [
       "<matplotlib.figure.Figure at 0x7f8a841b6668>"
      ]
     },
     "metadata": {},
     "output_type": "display_data"
    }
   ],
   "source": [
    "circle.plot_error()"
   ]
  },
  {
   "cell_type": "code",
   "execution_count": 20,
   "metadata": {},
   "outputs": [],
   "source": [
    "import pickle\n",
    "f = open('data/coin_data/edgels.pickle','rb')\n",
    "data = pickle.load(f)\n",
    "f.close()"
   ]
  },
  {
   "cell_type": "code",
   "execution_count": 23,
   "metadata": {},
   "outputs": [
    {
     "ename": "AttributeError",
     "evalue": "'dict' object has no attribute 'kps'",
     "output_type": "error",
     "traceback": [
      "\u001b[0;31m-------------------------------------------------\u001b[0m",
      "\u001b[0;31mAttributeError\u001b[0m  Traceback (most recent call last)",
      "\u001b[0;32m<ipython-input-23-63cadcef168b>\u001b[0m in \u001b[0;36m<module>\u001b[0;34m()\u001b[0m\n\u001b[0;32m----> 1\u001b[0;31m \u001b[0mdata\u001b[0m\u001b[0;34m.\u001b[0m\u001b[0mkps\u001b[0m\u001b[0;34m\u001b[0m\u001b[0m\n\u001b[0m",
      "\u001b[0;31mAttributeError\u001b[0m: 'dict' object has no attribute 'kps'"
     ]
    }
   ],
   "source": [
    "data.kps"
   ]
  },
  {
   "cell_type": "code",
   "execution_count": null,
   "metadata": {},
   "outputs": [],
   "source": []
  }
 ],
 "metadata": {
  "kernelspec": {
   "display_name": "Python 3",
   "language": "python",
   "name": "python3"
  },
  "language_info": {
   "codemirror_mode": {
    "name": "ipython",
    "version": 3
   },
   "file_extension": ".py",
   "mimetype": "text/x-python",
   "name": "python",
   "nbconvert_exporter": "python",
   "pygments_lexer": "ipython3",
   "version": "3.6.4"
  }
 },
 "nbformat": 4,
 "nbformat_minor": 2
}
